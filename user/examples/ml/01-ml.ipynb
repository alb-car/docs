{
 "cells": [
  {
   "attachments": {},
   "cell_type": "markdown",
   "id": "ced904ea-02bf-4ff5-8844-e95423f4220f",
   "metadata": {},
   "source": [
    "# Setup"
   ]
  },
  {
   "cell_type": "code",
   "execution_count": null,
   "id": "96dc9a26-465e-4d71-a73b-bca41e7611b1",
   "metadata": {},
   "outputs": [],
   "source": [
    "import digitalhub as dh\n",
    "\n",
    "project = dh.get_or_create_project(\"demo-ml\")"
   ]
  },
  {
   "attachments": {},
   "cell_type": "markdown",
   "id": "bea2f59e-387c-46d8-bb3e-6b3bb33ff7f7",
   "metadata": {},
   "source": [
    "# Train the model"
   ]
  },
  {
   "cell_type": "code",
   "execution_count": null,
   "id": "27bb60a6-6660-4cd4-94da-218d06355ae5",
   "metadata": {},
   "outputs": [],
   "source": [
    "%%writefile \"train-model.py\"\n",
    "\n",
    "\n",
    "from digitalhub_runtime_python import handler\n",
    "\n",
    "import pandas as pd\n",
    "import numpy as np\n",
    "\n",
    "from darts import TimeSeries\n",
    "from darts.datasets import AirPassengersDataset\n",
    "from darts.models import NBEATSModel\n",
    "from darts.metrics import mape, smape, mae\n",
    "\n",
    "from zipfile import ZipFile\n",
    "\n",
    "@handler()\n",
    "def train_model(project):\n",
    "    series = AirPassengersDataset().load()\n",
    "    train, val = series[:-36], series[-36:]\n",
    "\n",
    "    model = NBEATSModel(\n",
    "        input_chunk_length=24,\n",
    "        output_chunk_length=12,\n",
    "        n_epochs=200,\n",
    "        random_state=0\n",
    "    )\n",
    "    model.fit(train)\n",
    "    pred = model.predict(n=36)\n",
    "\n",
    "    model.save(\"predictor_model.pt\")\n",
    "    with ZipFile(\"predictor_model.pt.zip\", \"w\") as z:\n",
    "        z.write(\"predictor_model.pt\")\n",
    "        z.write(\"predictor_model.pt.ckpt\")\n",
    "    metrics = {\n",
    "        \"mape\": mape(series, pred),\n",
    "        \"smape\": smape(series, pred),\n",
    "        \"mae\": mae(series, pred)\n",
    "    }\n",
    "\n",
    "    project.log_model(\n",
    "        name=\"darts_model\",\n",
    "        kind=\"model\",\n",
    "        source=\"predictor_model.pt.zip\",\n",
    "        algorithm=\"darts.models.NBEATSModel\",\n",
    "        framework=\"darts\",\n",
    "        metrics=metrics\n",
    "    )"
   ]
  },
  {
   "cell_type": "code",
   "execution_count": null,
   "id": "db72ffc6-0874-407a-9ae0-4e763bf32882",
   "metadata": {},
   "outputs": [],
   "source": [
    "train_fn = project.new_function(name=\"train-darts\",\n",
    "                                kind=\"python\",\n",
    "                                python_version=\"PYTHON3_10\",\n",
    "                                code_src=\"train-model.py\",\n",
    "                                handler=\"train_model\",\n",
    "                                requirements=[\"darts==0.30.0\"])"
   ]
  },
  {
   "cell_type": "code",
   "execution_count": null,
   "id": "6f28728b-632c-4dca-a33e-edde5fa2951e",
   "metadata": {},
   "outputs": [],
   "source": [
    "train_run = train_fn.run(action=\"job\")"
   ]
  },
  {
   "attachments": {},
   "cell_type": "markdown",
   "id": "50f5f4c0-2b5c-40ad-a0bf-1ead2227c0dc",
   "metadata": {},
   "source": [
    "# Serve the model"
   ]
  },
  {
   "cell_type": "code",
   "execution_count": null,
   "id": "70b5e81b-46bc-4f61-87b1-f04dd672a373",
   "metadata": {},
   "outputs": [],
   "source": [
    "%%writefile \"serve_darts_model.py\"\n",
    "\n",
    "from darts.models import NBEATSModel\n",
    "from zipfile import ZipFile\n",
    "from darts import TimeSeries\n",
    "import json\n",
    "import pandas as pd\n",
    "\n",
    "def init(context):\n",
    "    model_name = \"darts_model\"\n",
    "\n",
    "    model = context.project.get_model(model_name)\n",
    "    path = model.download()\n",
    "    local_path_model = \"extracted_model/\"\n",
    "\n",
    "    with ZipFile(path, 'r') as zip_ref:\n",
    "        zip_ref.extractall(local_path_model)\n",
    "\n",
    "    input_chunk_length = 24\n",
    "    output_chunk_length = 12\n",
    "    name_model_local = local_path_model +\"predictor_model.pt\"\n",
    "    mm = NBEATSModel(\n",
    "            input_chunk_length,\n",
    "            output_chunk_length\n",
    "    ).load(name_model_local)\n",
    "\n",
    "    setattr(context, \"model\", mm)\n",
    "\n",
    "def serve(context, event):\n",
    "\n",
    "    if isinstance(event.body, bytes):\n",
    "        body = json.loads(event.body)\n",
    "    else:\n",
    "        body = event.body\n",
    "    context.logger.info(f\"Received event: {body}\")\n",
    "    inference_input = body[\"inference_input\"]\n",
    "\n",
    "    pdf = pd.DataFrame(inference_input)\n",
    "    pdf['date'] = pd.to_datetime(pdf['date'], unit='ms')\n",
    "\n",
    "    ts = TimeSeries.from_dataframe(\n",
    "        pdf,\n",
    "        time_col=\"date\",\n",
    "        value_cols=\"value\"\n",
    "    )\n",
    "\n",
    "    output_chunk_length = 12\n",
    "    result = context.model.predict(n=output_chunk_length*2, series=ts)\n",
    "    # Convert the result to a pandas DataFrame, reset the index, and convert to a list\n",
    "    jsonstr = result.pd_dataframe().reset_index().to_json(orient='records')\n",
    "    return json.loads(jsonstr)"
   ]
  },
  {
   "cell_type": "code",
   "execution_count": null,
   "id": "068d482e-fb9a-4a6a-9740-7139445cd9d5",
   "metadata": {},
   "outputs": [],
   "source": [
    "func = project.new_function(name=\"serve_darts_model\",\n",
    "                            kind=\"python\",\n",
    "                            python_version=\"PYTHON3_10\",\n",
    "                            code_src=\"serve_darts_model.py\",\n",
    "                            handler=\"serve\",\n",
    "                            init_function=\"init\",\n",
    "                            requirements=[\"darts==0.30.0\"])"
   ]
  },
  {
   "cell_type": "code",
   "execution_count": null,
   "id": "3826791c-8766-4729-afec-79328b1f1995",
   "metadata": {},
   "outputs": [],
   "source": [
    "run_build_model_serve = func.run(action=\"build\", instructions=[\"pip3 install torch torchvision torchaudio --index-url https://download.pytorch.org/whl/cpu\",\"pip3 install darts==0.30.0\"])"
   ]
  },
  {
   "cell_type": "code",
   "execution_count": null,
   "id": "8c21b47f-fa27-487f-82d3-d66c7c2a835a",
   "metadata": {},
   "outputs": [],
   "source": [
    "run_serve = func.run(action=\"serve\")"
   ]
  },
  {
   "cell_type": "code",
   "execution_count": null,
   "id": "596589a1-1904-41c4-aeac-c2b94144b57a",
   "metadata": {},
   "outputs": [],
   "source": [
    "%pip install darts==0.30.0"
   ]
  },
  {
   "attachments": {},
   "cell_type": "markdown",
   "id": "7b8af438-0e55-4f99-a989-1c12944d66ab",
   "metadata": {},
   "source": [
    "# Test the endpoint"
   ]
  },
  {
   "cell_type": "code",
   "execution_count": null,
   "id": "b1889833-8b17-446f-b76d-607559c5f1d8",
   "metadata": {},
   "outputs": [],
   "source": [
    "import json\n",
    "from datetime import datetime\n",
    "from darts.datasets import AirPassengersDataset\n",
    "\n",
    "series = AirPassengersDataset().load()\n",
    "val = series[-24:]\n",
    "json_value = json.loads(val.to_json())\n",
    "\n",
    "data = map(lambda x, y: {\"value\": x[0], \"date\": datetime.timestamp(datetime.strptime(y, \"%Y-%m-%dT%H:%M:%S.%f\"))*1000}, json_value[\"data\"], json_value[\"index\"])\n",
    "inference_input = list(data)\n",
    "json = {\"inference_input\": inference_input}"
   ]
  },
  {
   "attachments": {},
   "cell_type": "markdown",
   "id": "0ca86e7b-2c9f-47ee-806a-387df1ed9672",
   "metadata": {},
   "source": [
    "You can check the status of the model with the following. When the attribute *service* appears, the model is ready to be used."
   ]
  },
  {
   "cell_type": "code",
   "execution_count": null,
   "id": "c3cf8227-7730-4ee4-9b64-0e750e344b43",
   "metadata": {},
   "outputs": [],
   "source": [
    "run_serve.refresh().status.service"
   ]
  },
  {
   "cell_type": "code",
   "execution_count": null,
   "id": "91349add-d91d-4077-ae38-5d9dd53a58b7",
   "metadata": {},
   "outputs": [],
   "source": [
    "run_serve.invoke(method=\"POST\", json=json).json()"
   ]
  }
 ],
 "metadata": {
  "kernelspec": {
   "display_name": "Python 3 (ipykernel)",
   "language": "python",
   "name": "python3"
  },
  "language_info": {
   "codemirror_mode": {
    "name": "ipython",
    "version": 3
   },
   "file_extension": ".py",
   "mimetype": "text/x-python",
   "name": "python",
   "nbconvert_exporter": "python",
   "pygments_lexer": "ipython3",
   "version": "3.10.11"
  }
 },
 "nbformat": 4,
 "nbformat_minor": 5
}
