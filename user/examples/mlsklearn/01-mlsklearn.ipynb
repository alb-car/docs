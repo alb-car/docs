{
 "cells": [
  {
   "attachments": {},
   "cell_type": "markdown",
   "id": "457e9342-641d-4cef-960a-9e59c71bbfdf",
   "metadata": {},
   "source": [
    "# Set-up"
   ]
  },
  {
   "cell_type": "code",
   "execution_count": null,
   "id": "4e12919c-e086-46d8-b58e-34efd167a691",
   "metadata": {},
   "outputs": [],
   "source": [
    "import digitalhub as dh\n",
    "\n",
    "project = dh.get_or_create_project(\"demo-ml\")"
   ]
  },
  {
   "attachments": {},
   "cell_type": "markdown",
   "id": "d28c765d-1618-481c-b4f0-5e77d81f5098",
   "metadata": {},
   "source": [
    "# Generate data"
   ]
  },
  {
   "cell_type": "code",
   "execution_count": null,
   "id": "d93479ab-2994-40f2-ac87-84c513d0d092",
   "metadata": {},
   "outputs": [],
   "source": [
    "%%writefile data-prep.py\n",
    "\n",
    "import pandas as pd\n",
    "from sklearn.datasets import load_breast_cancer\n",
    "\n",
    "from digitalhub_runtime_python import handler\n",
    "\n",
    "@handler(outputs=[\"dataset\"])\n",
    "def breast_cancer_generator():\n",
    "    \"\"\"\n",
    "    A function which generates the breast cancer dataset\n",
    "    \"\"\"\n",
    "    breast_cancer = load_breast_cancer()\n",
    "    breast_cancer_dataset = pd.DataFrame(\n",
    "        data=breast_cancer.data, columns=breast_cancer.feature_names\n",
    "    )\n",
    "    breast_cancer_labels = pd.DataFrame(data=breast_cancer.target, columns=[\"target\"])\n",
    "    breast_cancer_dataset = pd.concat(\n",
    "        [breast_cancer_dataset, breast_cancer_labels], axis=1\n",
    "    )\n",
    "\n",
    "    return breast_cancer_dataset"
   ]
  },
  {
   "cell_type": "code",
   "execution_count": null,
   "id": "ae334c87-3b1a-4245-bc0f-e736ad73bed4",
   "metadata": {},
   "outputs": [],
   "source": [
    "data_gen_fn = project.new_function(name=\"data-prep\",\n",
    "                                   kind=\"python\",\n",
    "                                   python_version=\"PYTHON3_9\",\n",
    "                                   code_src=\"data-prep.py\",\n",
    "                                   handler=\"breast_cancer_generator\")"
   ]
  },
  {
   "cell_type": "code",
   "execution_count": null,
   "id": "bd648f7a-8657-4b26-aee5-83ca8f833c0a",
   "metadata": {},
   "outputs": [],
   "source": [
    "gen_data_run = data_gen_fn.run(action=\"job\", outputs={\"dataset\": \"dataset\"}, local_execution=True)"
   ]
  },
  {
   "cell_type": "code",
   "execution_count": null,
   "id": "7d43fce0-ac32-4c20-926e-890cdb51c57d",
   "metadata": {},
   "outputs": [],
   "source": [
    "gen_data_run.output(\"dataset\").as_df().head()"
   ]
  },
  {
   "attachments": {},
   "cell_type": "markdown",
   "id": "ea2abe7e-a932-41c6-a580-9e09d6e80f50",
   "metadata": {},
   "source": [
    "# Train the model"
   ]
  },
  {
   "cell_type": "code",
   "execution_count": null,
   "id": "5a73ce20-e7df-49d0-a900-06a79c1a70a9",
   "metadata": {},
   "outputs": [],
   "source": [
    "%%writefile train-model.py\n",
    "\n",
    "\n",
    "import pandas as pd\n",
    "from sklearn.datasets import load_breast_cancer\n",
    "from sklearn.model_selection import train_test_split\n",
    "\n",
    "from digitalhub_runtime_python import handler\n",
    "from sklearn.svm import SVC\n",
    "from pickle import dump\n",
    "import sklearn.metrics\n",
    "import os\n",
    "\n",
    "@handler(outputs=[\"dataset\"])\n",
    "def train(project, di):\n",
    "\n",
    "    df_cancer = di.as_df()\n",
    "    X = df_cancer.drop(['target'],axis=1)\n",
    "    y = df_cancer['target']\n",
    "    X_train, X_test, y_train, y_test = train_test_split(X, y, test_size = 0.20, random_state=5)\n",
    "    svc_model = SVC()\n",
    "    svc_model.fit(X_train, y_train)\n",
    "    y_predict = svc_model.predict(X_test)\n",
    "\n",
    "    if not os.path.exists(\"model\"):\n",
    "        os.makedirs(\"model\")\n",
    "\n",
    "    with open(\"model/cancer_classifier.pkl\", \"wb\") as f:\n",
    "        dump(svc_model, f, protocol=5)\n",
    "\n",
    "    metrics = {\n",
    "        \"f1_score\": sklearn.metrics.f1_score(y_test, y_predict),\n",
    "        \"accuracy\": sklearn.metrics.accuracy_score(y_test, y_predict),\n",
    "        \"precision\": sklearn.metrics.precision_score(y_test, y_predict),\n",
    "        \"recall\": sklearn.metrics.recall_score(y_test, y_predict),\n",
    "    }\n",
    "    project.log_model(\n",
    "            name=\"cancer_classifier\",\n",
    "            kind=\"sklearn\",\n",
    "            source=\"./model/\",\n",
    "            metrics=metrics\n",
    "    )"
   ]
  },
  {
   "cell_type": "code",
   "execution_count": null,
   "id": "ce0cedbf-99b9-4d05-90b8-4e032df96505",
   "metadata": {},
   "outputs": [],
   "source": [
    "train_fn = project.new_function(name=\"train\",\n",
    "                                kind=\"python\",\n",
    "                                python_version=\"PYTHON3_10\",\n",
    "                                code_src=\"train-model.py\",\n",
    "                                handler=\"train\",\n",
    "                                requirements=[\"scikit-learn==1.2.2\"])"
   ]
  },
  {
   "cell_type": "code",
   "execution_count": null,
   "id": "dee0b560-0b46-4b51-bb92-aecec724278c",
   "metadata": {},
   "outputs": [],
   "source": [
    "train_run = train_fn.run(action=\"job\", inputs={\"di\": gen_data_run.output(\"dataset\").key})"
   ]
  },
  {
   "cell_type": "code",
   "execution_count": null,
   "id": "a8214049-0e83-4531-b4a4-0a4c030a01ae",
   "metadata": {},
   "outputs": [],
   "source": [
    "model = project.get_model(\"cancer_classifier\")\n",
    "model.spec.path"
   ]
  },
  {
   "attachments": {},
   "cell_type": "markdown",
   "id": "b875ea72-e965-4133-81c6-91be7bc8bb09",
   "metadata": {},
   "source": [
    "# Deploy the model"
   ]
  },
  {
   "cell_type": "code",
   "execution_count": null,
   "id": "e531147e-54f3-4e87-ba2d-c89b43b25338",
   "metadata": {},
   "outputs": [],
   "source": [
    "func = project.new_function(name=\"serve_sklearnmodel\",\n",
    "                            kind=\"sklearnserve\",\n",
    "                            path=model.spec.path + 'model/cancer_classifier.pkl')\n",
    "\n",
    "serve_run = func.run(action=\"serve\")"
   ]
  },
  {
   "cell_type": "code",
   "execution_count": null,
   "id": "798a8271-6dbd-4f2e-a676-df2097bf9de6",
   "metadata": {},
   "outputs": [],
   "source": [
    "import numpy as np\n",
    "\n",
    "data = np.random.rand(2, 30).tolist()\n",
    "json = {\n",
    "    \"inputs\": [\n",
    "        {\n",
    "        \"name\": \"input-0\",\n",
    "        \"shape\": [2, 30],\n",
    "        \"datatype\": \"FP32\",\n",
    "        \"data\": data\n",
    "        }\n",
    "    ]\n",
    "}"
   ]
  },
  {
   "attachments": {},
   "cell_type": "markdown",
   "id": "d42bf2bd-2da5-4c7f-8515-c1bef4bfef1d",
   "metadata": {},
   "source": [
    "You can check the status of the model with the following. When the attribute service appears, the model is ready to be used."
   ]
  },
  {
   "cell_type": "code",
   "execution_count": null,
   "id": "08ec32ec-e0b0-4635-8a5e-0f58010f1730",
   "metadata": {},
   "outputs": [],
   "source": [
    "serve_run.refresh().status.service"
   ]
  },
  {
   "cell_type": "code",
   "execution_count": null,
   "id": "11b54cd0-2917-4d48-bffd-d13f186b4b80",
   "metadata": {},
   "outputs": [],
   "source": [
    "serve_run.invoke(json=json).json()"
   ]
  }
 ],
 "metadata": {
  "kernelspec": {
   "display_name": "Python 3 (ipykernel)",
   "language": "python",
   "name": "python3"
  },
  "language_info": {
   "codemirror_mode": {
    "name": "ipython",
    "version": 3
   },
   "file_extension": ".py",
   "mimetype": "text/x-python",
   "name": "python",
   "nbconvert_exporter": "python",
   "pygments_lexer": "ipython3",
   "version": "3.10.11"
  }
 },
 "nbformat": 4,
 "nbformat_minor": 5
}
