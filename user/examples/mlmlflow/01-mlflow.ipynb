{
 "cells": [
  {
   "attachments": {},
   "cell_type": "markdown",
   "id": "7e39fd76-eca4-46dc-b40d-afd12adb4231",
   "metadata": {},
   "source": [
    "# Setup"
   ]
  },
  {
   "cell_type": "code",
   "execution_count": null,
   "id": "7c4906b4-8a4b-4015-8b57-3182d4a02a17",
   "metadata": {},
   "outputs": [],
   "source": [
    "%pip install mlflow scikit-learn==1.5.0"
   ]
  },
  {
   "cell_type": "code",
   "execution_count": null,
   "id": "2f841fcf-1b9e-44f0-bd52-153e119f7707",
   "metadata": {},
   "outputs": [],
   "source": [
    "import digitalhub as dh\n",
    "\n",
    "project = dh.get_or_create_project(\"demo-mlflow\")"
   ]
  },
  {
   "attachments": {},
   "cell_type": "markdown",
   "id": "b1f9e262-c9e0-482c-aca0-bc5f646f140a",
   "metadata": {},
   "source": [
    "# Train the model"
   ]
  },
  {
   "cell_type": "code",
   "execution_count": null,
   "id": "97d73004-7e4d-4c77-b58e-d38a8e95ae12",
   "metadata": {},
   "outputs": [],
   "source": [
    "%%writefile train-model.py\n",
    "\n",
    "from digitalhub_runtime_python import handler\n",
    "\n",
    "from digitalhub import from_mlflow_run\n",
    "import mlflow\n",
    "\n",
    "from sklearn import datasets, svm\n",
    "from sklearn.model_selection import GridSearchCV\n",
    "\n",
    "@handler()\n",
    "def train(project):\n",
    "    mlflow.sklearn.autolog(log_datasets=True)\n",
    "\n",
    "    iris = datasets.load_iris()\n",
    "    parameters = {\"kernel\": (\"linear\", \"rbf\"), \"C\": [1, 10]}\n",
    "    svc = svm.SVC()\n",
    "    clf = GridSearchCV(svc, parameters)\n",
    "\n",
    "    clf.fit(iris.data, iris.target)\n",
    "    run_id = mlflow.last_active_run().info.run_id\n",
    "\n",
    "    # utility to map mlflow run artifacts to model metadata\n",
    "    model_params = from_mlflow_run(run_id)\n",
    "\n",
    "    project.log_model(\n",
    "        name=\"model-mlflow\",\n",
    "        kind=\"mlflow\",\n",
    "        **model_params\n",
    ")"
   ]
  },
  {
   "cell_type": "code",
   "execution_count": null,
   "id": "ecf566f0-7960-4897-befb-b5e2b90600ee",
   "metadata": {},
   "outputs": [],
   "source": [
    "train_fn = project.new_function(name=\"train\",\n",
    "                                kind=\"python\",\n",
    "                                python_version=\"PYTHON3_10\",\n",
    "                                code_src=\"train-model.py\",\n",
    "                                handler=\"train\",\n",
    "                                requirements=[\"scikit-learn==1.5.0\", \"mlflow==2.15.1\"])"
   ]
  },
  {
   "cell_type": "code",
   "execution_count": null,
   "id": "9fffc462-072a-4376-82f4-4186bc33963f",
   "metadata": {},
   "outputs": [],
   "source": [
    "train_run = train_fn.run(action=\"job\", local_execution=True)"
   ]
  },
  {
   "cell_type": "code",
   "execution_count": null,
   "id": "ea01b4fd-ed8e-4b8f-ad4a-98433efabb37",
   "metadata": {},
   "outputs": [],
   "source": [
    "model = project.get_model(\"model-mlflow\")\n",
    "model.spec.path"
   ]
  },
  {
   "attachments": {},
   "cell_type": "markdown",
   "id": "4ac66770-9ba8-4a1e-992c-7adfd2ae830c",
   "metadata": {},
   "source": [
    "# Deploy the model"
   ]
  },
  {
   "cell_type": "code",
   "execution_count": null,
   "id": "b4d6cf73-4804-4242-b7c7-fd85b97cf190",
   "metadata": {},
   "outputs": [],
   "source": [
    "func = project.new_function(name=\"serve_mlflowmodel\",\n",
    "                            kind=\"mlflowserve\",\n",
    "                            model_name=\"mlflow_model\",\n",
    "                            path=model.spec.path + 'model/')\n",
    "\n",
    "serve_run = func.run(action=\"serve\")"
   ]
  },
  {
   "cell_type": "code",
   "execution_count": null,
   "id": "4d962ab0-f620-4b93-965b-bc6a7cbabba4",
   "metadata": {},
   "outputs": [],
   "source": [
    "from sklearn import datasets\n",
    "\n",
    "iris = datasets.load_iris()\n",
    "data = iris.data[0:2].tolist()\n",
    "json={\n",
    "    \"inputs\": [\n",
    "        {\n",
    "        \"name\": \"input-0\",\n",
    "        \"shape\": [-1, 4],\n",
    "        \"datatype\": \"FP64\",\n",
    "        \"data\": data\n",
    "        }\n",
    "    ]\n",
    "}"
   ]
  },
  {
   "attachments": {},
   "cell_type": "markdown",
   "id": "8c77061b-0c0b-4143-914b-fcab70359901",
   "metadata": {},
   "source": [
    "# Test the endpoint"
   ]
  },
  {
   "attachments": {},
   "cell_type": "markdown",
   "id": "99dba8b9-143d-48d4-92c1-0dea88a43a76",
   "metadata": {},
   "source": [
    "You can check the status of the model with the following. When the attribute *service* appears, the model is ready to be used."
   ]
  },
  {
   "cell_type": "code",
   "execution_count": null,
   "id": "d7a0ce69-72b4-483c-9391-35731c578663",
   "metadata": {},
   "outputs": [],
   "source": [
    "serve_run.refresh().status.service"
   ]
  },
  {
   "cell_type": "code",
   "execution_count": null,
   "id": "766ca548-c705-4357-8a0c-efaac2926f34",
   "metadata": {},
   "outputs": [],
   "source": [
    "serve_run.invoke(model_name=\"mlflow_model\", json=json).json()"
   ]
  }
 ],
 "metadata": {
  "kernelspec": {
   "display_name": "Python 3 (ipykernel)",
   "language": "python",
   "name": "python3"
  },
  "language_info": {
   "codemirror_mode": {
    "name": "ipython",
    "version": 3
   },
   "file_extension": ".py",
   "mimetype": "text/x-python",
   "name": "python",
   "nbconvert_exporter": "python",
   "pygments_lexer": "ipython3",
   "version": "3.10.11"
  }
 },
 "nbformat": 4,
 "nbformat_minor": 5
}
